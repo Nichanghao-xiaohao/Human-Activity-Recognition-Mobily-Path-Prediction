{
 "cells": [
  {
   "cell_type": "code",
   "execution_count": 1,
   "metadata": {},
   "outputs": [],
   "source": [
    "import pandas as pd\n",
    "import numpy as np\n",
    "from sklearn.preprocessing import LabelEncoder\n",
    "import random\n",
    "from sklearn.ensemble import RandomForestClassifier\n",
    "from sklearn.ensemble import GradientBoostingClassifier\n",
    "from sklearn import datasets, linear_model\n",
    "from sklearn.model_selection import train_test_split\n",
    "from matplotlib import pyplot as plt\n",
    "from sklearn import preprocessing\n",
    "from scipy import stats\n"
   ]
  },
  {
   "cell_type": "code",
   "execution_count": 2,
   "metadata": {},
   "outputs": [],
   "source": [
    "df = pd.read_csv(r'D:\\MastersProject\\New Masters Project\\Final_Data.csv')"
   ]
  },
  {
   "cell_type": "code",
   "execution_count": 3,
   "metadata": {},
   "outputs": [
    {
     "data": {
      "text/html": [
       "<div>\n",
       "<style scoped>\n",
       "    .dataframe tbody tr th:only-of-type {\n",
       "        vertical-align: middle;\n",
       "    }\n",
       "\n",
       "    .dataframe tbody tr th {\n",
       "        vertical-align: top;\n",
       "    }\n",
       "\n",
       "    .dataframe thead th {\n",
       "        text-align: right;\n",
       "    }\n",
       "</style>\n",
       "<table border=\"1\" class=\"dataframe\">\n",
       "  <thead>\n",
       "    <tr style=\"text-align: right;\">\n",
       "      <th></th>\n",
       "      <th>AccX</th>\n",
       "      <th>AccY</th>\n",
       "      <th>AccZ</th>\n",
       "      <th>Activity</th>\n",
       "      <th>UserName</th>\n",
       "    </tr>\n",
       "  </thead>\n",
       "  <tbody>\n",
       "    <tr>\n",
       "      <th>0</th>\n",
       "      <td>-0.972528</td>\n",
       "      <td>4.645739</td>\n",
       "      <td>8.966504</td>\n",
       "      <td>Sitting</td>\n",
       "      <td>Pranav_Iphone</td>\n",
       "    </tr>\n",
       "    <tr>\n",
       "      <th>1</th>\n",
       "      <td>-0.717159</td>\n",
       "      <td>4.640201</td>\n",
       "      <td>8.394094</td>\n",
       "      <td>Sitting</td>\n",
       "      <td>Pranav_Iphone</td>\n",
       "    </tr>\n",
       "    <tr>\n",
       "      <th>2</th>\n",
       "      <td>-0.834215</td>\n",
       "      <td>4.701423</td>\n",
       "      <td>8.678204</td>\n",
       "      <td>Sitting</td>\n",
       "      <td>Pranav_Iphone</td>\n",
       "    </tr>\n",
       "    <tr>\n",
       "      <th>3</th>\n",
       "      <td>-0.727038</td>\n",
       "      <td>4.670887</td>\n",
       "      <td>8.535101</td>\n",
       "      <td>Sitting</td>\n",
       "      <td>Pranav_Iphone</td>\n",
       "    </tr>\n",
       "    <tr>\n",
       "      <th>4</th>\n",
       "      <td>-0.646655</td>\n",
       "      <td>4.657565</td>\n",
       "      <td>8.549322</td>\n",
       "      <td>Sitting</td>\n",
       "      <td>Pranav_Iphone</td>\n",
       "    </tr>\n",
       "    <tr>\n",
       "      <th>5</th>\n",
       "      <td>-0.641566</td>\n",
       "      <td>4.721182</td>\n",
       "      <td>8.369695</td>\n",
       "      <td>Sitting</td>\n",
       "      <td>Pranav_Iphone</td>\n",
       "    </tr>\n",
       "    <tr>\n",
       "      <th>6</th>\n",
       "      <td>-0.782423</td>\n",
       "      <td>4.706363</td>\n",
       "      <td>8.647368</td>\n",
       "      <td>Sitting</td>\n",
       "      <td>Pranav_Iphone</td>\n",
       "    </tr>\n",
       "    <tr>\n",
       "      <th>7</th>\n",
       "      <td>-0.607886</td>\n",
       "      <td>4.619244</td>\n",
       "      <td>8.684191</td>\n",
       "      <td>Sitting</td>\n",
       "      <td>Pranav_Iphone</td>\n",
       "    </tr>\n",
       "    <tr>\n",
       "      <th>8</th>\n",
       "      <td>-0.650697</td>\n",
       "      <td>4.681215</td>\n",
       "      <td>8.539143</td>\n",
       "      <td>Sitting</td>\n",
       "      <td>Pranav_Iphone</td>\n",
       "    </tr>\n",
       "    <tr>\n",
       "      <th>9</th>\n",
       "      <td>-0.660127</td>\n",
       "      <td>4.741241</td>\n",
       "      <td>8.322992</td>\n",
       "      <td>Sitting</td>\n",
       "      <td>Pranav_Iphone</td>\n",
       "    </tr>\n",
       "    <tr>\n",
       "      <th>10</th>\n",
       "      <td>-0.673150</td>\n",
       "      <td>4.733008</td>\n",
       "      <td>8.573122</td>\n",
       "      <td>Sitting</td>\n",
       "      <td>Pranav_Iphone</td>\n",
       "    </tr>\n",
       "    <tr>\n",
       "      <th>11</th>\n",
       "      <td>-0.633333</td>\n",
       "      <td>4.762047</td>\n",
       "      <td>8.496781</td>\n",
       "      <td>Sitting</td>\n",
       "      <td>Pranav_Iphone</td>\n",
       "    </tr>\n",
       "    <tr>\n",
       "      <th>12</th>\n",
       "      <td>-0.676144</td>\n",
       "      <td>4.714147</td>\n",
       "      <td>8.480315</td>\n",
       "      <td>Sitting</td>\n",
       "      <td>Pranav_Iphone</td>\n",
       "    </tr>\n",
       "    <tr>\n",
       "      <th>13</th>\n",
       "      <td>-0.709525</td>\n",
       "      <td>4.676874</td>\n",
       "      <td>8.616232</td>\n",
       "      <td>Sitting</td>\n",
       "      <td>Pranav_Iphone</td>\n",
       "    </tr>\n",
       "    <tr>\n",
       "      <th>14</th>\n",
       "      <td>-0.628543</td>\n",
       "      <td>4.606371</td>\n",
       "      <td>8.524623</td>\n",
       "      <td>Sitting</td>\n",
       "      <td>Pranav_Iphone</td>\n",
       "    </tr>\n",
       "    <tr>\n",
       "      <th>15</th>\n",
       "      <td>-0.512384</td>\n",
       "      <td>4.512067</td>\n",
       "      <td>8.607251</td>\n",
       "      <td>Sitting</td>\n",
       "      <td>Pranav_Iphone</td>\n",
       "    </tr>\n",
       "    <tr>\n",
       "      <th>16</th>\n",
       "      <td>-0.707279</td>\n",
       "      <td>4.768334</td>\n",
       "      <td>8.267158</td>\n",
       "      <td>Sitting</td>\n",
       "      <td>Pranav_Iphone</td>\n",
       "    </tr>\n",
       "    <tr>\n",
       "      <th>17</th>\n",
       "      <td>-0.667761</td>\n",
       "      <td>4.669989</td>\n",
       "      <td>8.657846</td>\n",
       "      <td>Sitting</td>\n",
       "      <td>Pranav_Iphone</td>\n",
       "    </tr>\n",
       "    <tr>\n",
       "      <th>18</th>\n",
       "      <td>-0.363444</td>\n",
       "      <td>4.359235</td>\n",
       "      <td>8.668923</td>\n",
       "      <td>Sitting</td>\n",
       "      <td>Pranav_Iphone</td>\n",
       "    </tr>\n",
       "    <tr>\n",
       "      <th>19</th>\n",
       "      <td>-0.546813</td>\n",
       "      <td>4.672384</td>\n",
       "      <td>8.464298</td>\n",
       "      <td>Sitting</td>\n",
       "      <td>Pranav_Iphone</td>\n",
       "    </tr>\n",
       "    <tr>\n",
       "      <th>20</th>\n",
       "      <td>-0.810115</td>\n",
       "      <td>4.842280</td>\n",
       "      <td>8.271499</td>\n",
       "      <td>Sitting</td>\n",
       "      <td>Pranav_Iphone</td>\n",
       "    </tr>\n",
       "    <tr>\n",
       "      <th>21</th>\n",
       "      <td>-0.244142</td>\n",
       "      <td>4.313730</td>\n",
       "      <td>8.688682</td>\n",
       "      <td>Sitting</td>\n",
       "      <td>Pranav_Iphone</td>\n",
       "    </tr>\n",
       "    <tr>\n",
       "      <th>22</th>\n",
       "      <td>-0.449964</td>\n",
       "      <td>4.073329</td>\n",
       "      <td>9.021739</td>\n",
       "      <td>Sitting</td>\n",
       "      <td>Pranav_Iphone</td>\n",
       "    </tr>\n",
       "    <tr>\n",
       "      <th>23</th>\n",
       "      <td>-1.707948</td>\n",
       "      <td>5.384453</td>\n",
       "      <td>8.082442</td>\n",
       "      <td>Sitting</td>\n",
       "      <td>Pranav_Iphone</td>\n",
       "    </tr>\n",
       "    <tr>\n",
       "      <th>24</th>\n",
       "      <td>0.542622</td>\n",
       "      <td>3.485951</td>\n",
       "      <td>9.231902</td>\n",
       "      <td>Sitting</td>\n",
       "      <td>Pranav_Iphone</td>\n",
       "    </tr>\n",
       "    <tr>\n",
       "      <th>25</th>\n",
       "      <td>-0.102836</td>\n",
       "      <td>4.032914</td>\n",
       "      <td>8.015232</td>\n",
       "      <td>Sitting</td>\n",
       "      <td>Pranav_Iphone</td>\n",
       "    </tr>\n",
       "    <tr>\n",
       "      <th>26</th>\n",
       "      <td>-1.366359</td>\n",
       "      <td>5.236860</td>\n",
       "      <td>9.074729</td>\n",
       "      <td>Sitting</td>\n",
       "      <td>Pranav_Iphone</td>\n",
       "    </tr>\n",
       "    <tr>\n",
       "      <th>27</th>\n",
       "      <td>0.162412</td>\n",
       "      <td>4.079916</td>\n",
       "      <td>8.747659</td>\n",
       "      <td>Sitting</td>\n",
       "      <td>Pranav_Iphone</td>\n",
       "    </tr>\n",
       "    <tr>\n",
       "      <th>28</th>\n",
       "      <td>-0.357906</td>\n",
       "      <td>4.024830</td>\n",
       "      <td>8.491691</td>\n",
       "      <td>Sitting</td>\n",
       "      <td>Pranav_Iphone</td>\n",
       "    </tr>\n",
       "    <tr>\n",
       "      <th>29</th>\n",
       "      <td>0.436043</td>\n",
       "      <td>4.285139</td>\n",
       "      <td>8.116422</td>\n",
       "      <td>Sitting</td>\n",
       "      <td>Pranav_Iphone</td>\n",
       "    </tr>\n",
       "    <tr>\n",
       "      <th>...</th>\n",
       "      <td>...</td>\n",
       "      <td>...</td>\n",
       "      <td>...</td>\n",
       "      <td>...</td>\n",
       "      <td>...</td>\n",
       "    </tr>\n",
       "    <tr>\n",
       "      <th>148232</th>\n",
       "      <td>-3.827318</td>\n",
       "      <td>14.750836</td>\n",
       "      <td>0.953424</td>\n",
       "      <td>Downstairs</td>\n",
       "      <td>Pranav_Iphone</td>\n",
       "    </tr>\n",
       "    <tr>\n",
       "      <th>148233</th>\n",
       "      <td>-0.612916</td>\n",
       "      <td>15.404614</td>\n",
       "      <td>2.982856</td>\n",
       "      <td>Downstairs</td>\n",
       "      <td>Pranav_Iphone</td>\n",
       "    </tr>\n",
       "    <tr>\n",
       "      <th>148234</th>\n",
       "      <td>-2.410802</td>\n",
       "      <td>9.847511</td>\n",
       "      <td>-0.081722</td>\n",
       "      <td>Downstairs</td>\n",
       "      <td>Pranav_Iphone</td>\n",
       "    </tr>\n",
       "    <tr>\n",
       "      <th>148235</th>\n",
       "      <td>0.762740</td>\n",
       "      <td>4.331271</td>\n",
       "      <td>1.334794</td>\n",
       "      <td>Downstairs</td>\n",
       "      <td>Pranav_Iphone</td>\n",
       "    </tr>\n",
       "    <tr>\n",
       "      <th>148236</th>\n",
       "      <td>-1.144109</td>\n",
       "      <td>6.088296</td>\n",
       "      <td>2.369940</td>\n",
       "      <td>Downstairs</td>\n",
       "      <td>Pranav_Iphone</td>\n",
       "    </tr>\n",
       "    <tr>\n",
       "      <th>148237</th>\n",
       "      <td>-1.988571</td>\n",
       "      <td>11.917805</td>\n",
       "      <td>7.818079</td>\n",
       "      <td>Downstairs</td>\n",
       "      <td>Pranav_Iphone</td>\n",
       "    </tr>\n",
       "    <tr>\n",
       "      <th>148238</th>\n",
       "      <td>-0.803601</td>\n",
       "      <td>5.597963</td>\n",
       "      <td>4.821603</td>\n",
       "      <td>Downstairs</td>\n",
       "      <td>Pranav_Iphone</td>\n",
       "    </tr>\n",
       "    <tr>\n",
       "      <th>148239</th>\n",
       "      <td>-1.838747</td>\n",
       "      <td>4.290410</td>\n",
       "      <td>0.803601</td>\n",
       "      <td>Downstairs</td>\n",
       "      <td>Pranav_Iphone</td>\n",
       "    </tr>\n",
       "    <tr>\n",
       "      <th>148240</th>\n",
       "      <td>0.721878</td>\n",
       "      <td>9.697687</td>\n",
       "      <td>4.331271</td>\n",
       "      <td>Downstairs</td>\n",
       "      <td>Pranav_Iphone</td>\n",
       "    </tr>\n",
       "    <tr>\n",
       "      <th>148241</th>\n",
       "      <td>-3.364226</td>\n",
       "      <td>11.754360</td>\n",
       "      <td>2.982856</td>\n",
       "      <td>Downstairs</td>\n",
       "      <td>Pranav_Iphone</td>\n",
       "    </tr>\n",
       "    <tr>\n",
       "      <th>148242</th>\n",
       "      <td>0.953424</td>\n",
       "      <td>18.305748</td>\n",
       "      <td>3.568531</td>\n",
       "      <td>Downstairs</td>\n",
       "      <td>Pranav_Iphone</td>\n",
       "    </tr>\n",
       "    <tr>\n",
       "      <th>148243</th>\n",
       "      <td>-0.381370</td>\n",
       "      <td>11.604536</td>\n",
       "      <td>-0.040861</td>\n",
       "      <td>Downstairs</td>\n",
       "      <td>Pranav_Iphone</td>\n",
       "    </tr>\n",
       "    <tr>\n",
       "      <th>148244</th>\n",
       "      <td>-1.035146</td>\n",
       "      <td>6.442424</td>\n",
       "      <td>1.184970</td>\n",
       "      <td>Downstairs</td>\n",
       "      <td>Pranav_Iphone</td>\n",
       "    </tr>\n",
       "    <tr>\n",
       "      <th>148245</th>\n",
       "      <td>-1.076008</td>\n",
       "      <td>6.701211</td>\n",
       "      <td>1.307553</td>\n",
       "      <td>Downstairs</td>\n",
       "      <td>Pranav_Iphone</td>\n",
       "    </tr>\n",
       "    <tr>\n",
       "      <th>148246</th>\n",
       "      <td>-4.018003</td>\n",
       "      <td>16.889230</td>\n",
       "      <td>7.314126</td>\n",
       "      <td>Downstairs</td>\n",
       "      <td>Pranav_Iphone</td>\n",
       "    </tr>\n",
       "    <tr>\n",
       "      <th>148247</th>\n",
       "      <td>-3.023717</td>\n",
       "      <td>8.281172</td>\n",
       "      <td>5.706926</td>\n",
       "      <td>Downstairs</td>\n",
       "      <td>Pranav_Iphone</td>\n",
       "    </tr>\n",
       "    <tr>\n",
       "      <th>148248</th>\n",
       "      <td>-2.301839</td>\n",
       "      <td>4.099725</td>\n",
       "      <td>1.648062</td>\n",
       "      <td>Downstairs</td>\n",
       "      <td>Pranav_Iphone</td>\n",
       "    </tr>\n",
       "    <tr>\n",
       "      <th>148249</th>\n",
       "      <td>0.463092</td>\n",
       "      <td>7.055340</td>\n",
       "      <td>3.173541</td>\n",
       "      <td>Downstairs</td>\n",
       "      <td>Pranav_Iphone</td>\n",
       "    </tr>\n",
       "    <tr>\n",
       "      <th>148250</th>\n",
       "      <td>-4.521955</td>\n",
       "      <td>9.847511</td>\n",
       "      <td>2.533385</td>\n",
       "      <td>Downstairs</td>\n",
       "      <td>Pranav_Iphone</td>\n",
       "    </tr>\n",
       "    <tr>\n",
       "      <th>148251</th>\n",
       "      <td>0.422231</td>\n",
       "      <td>16.821129</td>\n",
       "      <td>3.636633</td>\n",
       "      <td>Downstairs</td>\n",
       "      <td>Pranav_Iphone</td>\n",
       "    </tr>\n",
       "    <tr>\n",
       "      <th>148252</th>\n",
       "      <td>-1.607201</td>\n",
       "      <td>9.343558</td>\n",
       "      <td>0.272407</td>\n",
       "      <td>Downstairs</td>\n",
       "      <td>Pranav_Iphone</td>\n",
       "    </tr>\n",
       "    <tr>\n",
       "      <th>148253</th>\n",
       "      <td>-0.081722</td>\n",
       "      <td>6.973618</td>\n",
       "      <td>1.307553</td>\n",
       "      <td>Downstairs</td>\n",
       "      <td>Pranav_Iphone</td>\n",
       "    </tr>\n",
       "    <tr>\n",
       "      <th>148254</th>\n",
       "      <td>1.648062</td>\n",
       "      <td>6.823794</td>\n",
       "      <td>2.152015</td>\n",
       "      <td>Downstairs</td>\n",
       "      <td>Pranav_Iphone</td>\n",
       "    </tr>\n",
       "    <tr>\n",
       "      <th>148255</th>\n",
       "      <td>-2.138395</td>\n",
       "      <td>6.551387</td>\n",
       "      <td>2.070293</td>\n",
       "      <td>Downstairs</td>\n",
       "      <td>Pranav_Iphone</td>\n",
       "    </tr>\n",
       "    <tr>\n",
       "      <th>148256</th>\n",
       "      <td>-2.301839</td>\n",
       "      <td>19.000385</td>\n",
       "      <td>5.325556</td>\n",
       "      <td>Downstairs</td>\n",
       "      <td>Pranav_Iphone</td>\n",
       "    </tr>\n",
       "    <tr>\n",
       "      <th>148257</th>\n",
       "      <td>0.531194</td>\n",
       "      <td>7.627395</td>\n",
       "      <td>0.503953</td>\n",
       "      <td>Downstairs</td>\n",
       "      <td>Pranav_Iphone</td>\n",
       "    </tr>\n",
       "    <tr>\n",
       "      <th>148258</th>\n",
       "      <td>-1.144109</td>\n",
       "      <td>5.706926</td>\n",
       "      <td>1.184970</td>\n",
       "      <td>Downstairs</td>\n",
       "      <td>Pranav_Iphone</td>\n",
       "    </tr>\n",
       "    <tr>\n",
       "      <th>148259</th>\n",
       "      <td>-1.525479</td>\n",
       "      <td>10.310603</td>\n",
       "      <td>2.833032</td>\n",
       "      <td>Downstairs</td>\n",
       "      <td>Pranav_Iphone</td>\n",
       "    </tr>\n",
       "    <tr>\n",
       "      <th>148260</th>\n",
       "      <td>-2.342700</td>\n",
       "      <td>9.084772</td>\n",
       "      <td>0.040861</td>\n",
       "      <td>Downstairs</td>\n",
       "      <td>Pranav_Iphone</td>\n",
       "    </tr>\n",
       "    <tr>\n",
       "      <th>148261</th>\n",
       "      <td>-2.601486</td>\n",
       "      <td>10.760075</td>\n",
       "      <td>1.035146</td>\n",
       "      <td>Downstairs</td>\n",
       "      <td>Pranav_Iphone</td>\n",
       "    </tr>\n",
       "  </tbody>\n",
       "</table>\n",
       "<p>148262 rows × 5 columns</p>\n",
       "</div>"
      ],
      "text/plain": [
       "            AccX       AccY      AccZ    Activity       UserName\n",
       "0      -0.972528   4.645739  8.966504     Sitting  Pranav_Iphone\n",
       "1      -0.717159   4.640201  8.394094     Sitting  Pranav_Iphone\n",
       "2      -0.834215   4.701423  8.678204     Sitting  Pranav_Iphone\n",
       "3      -0.727038   4.670887  8.535101     Sitting  Pranav_Iphone\n",
       "4      -0.646655   4.657565  8.549322     Sitting  Pranav_Iphone\n",
       "5      -0.641566   4.721182  8.369695     Sitting  Pranav_Iphone\n",
       "6      -0.782423   4.706363  8.647368     Sitting  Pranav_Iphone\n",
       "7      -0.607886   4.619244  8.684191     Sitting  Pranav_Iphone\n",
       "8      -0.650697   4.681215  8.539143     Sitting  Pranav_Iphone\n",
       "9      -0.660127   4.741241  8.322992     Sitting  Pranav_Iphone\n",
       "10     -0.673150   4.733008  8.573122     Sitting  Pranav_Iphone\n",
       "11     -0.633333   4.762047  8.496781     Sitting  Pranav_Iphone\n",
       "12     -0.676144   4.714147  8.480315     Sitting  Pranav_Iphone\n",
       "13     -0.709525   4.676874  8.616232     Sitting  Pranav_Iphone\n",
       "14     -0.628543   4.606371  8.524623     Sitting  Pranav_Iphone\n",
       "15     -0.512384   4.512067  8.607251     Sitting  Pranav_Iphone\n",
       "16     -0.707279   4.768334  8.267158     Sitting  Pranav_Iphone\n",
       "17     -0.667761   4.669989  8.657846     Sitting  Pranav_Iphone\n",
       "18     -0.363444   4.359235  8.668923     Sitting  Pranav_Iphone\n",
       "19     -0.546813   4.672384  8.464298     Sitting  Pranav_Iphone\n",
       "20     -0.810115   4.842280  8.271499     Sitting  Pranav_Iphone\n",
       "21     -0.244142   4.313730  8.688682     Sitting  Pranav_Iphone\n",
       "22     -0.449964   4.073329  9.021739     Sitting  Pranav_Iphone\n",
       "23     -1.707948   5.384453  8.082442     Sitting  Pranav_Iphone\n",
       "24      0.542622   3.485951  9.231902     Sitting  Pranav_Iphone\n",
       "25     -0.102836   4.032914  8.015232     Sitting  Pranav_Iphone\n",
       "26     -1.366359   5.236860  9.074729     Sitting  Pranav_Iphone\n",
       "27      0.162412   4.079916  8.747659     Sitting  Pranav_Iphone\n",
       "28     -0.357906   4.024830  8.491691     Sitting  Pranav_Iphone\n",
       "29      0.436043   4.285139  8.116422     Sitting  Pranav_Iphone\n",
       "...          ...        ...       ...         ...            ...\n",
       "148232 -3.827318  14.750836  0.953424  Downstairs  Pranav_Iphone\n",
       "148233 -0.612916  15.404614  2.982856  Downstairs  Pranav_Iphone\n",
       "148234 -2.410802   9.847511 -0.081722  Downstairs  Pranav_Iphone\n",
       "148235  0.762740   4.331271  1.334794  Downstairs  Pranav_Iphone\n",
       "148236 -1.144109   6.088296  2.369940  Downstairs  Pranav_Iphone\n",
       "148237 -1.988571  11.917805  7.818079  Downstairs  Pranav_Iphone\n",
       "148238 -0.803601   5.597963  4.821603  Downstairs  Pranav_Iphone\n",
       "148239 -1.838747   4.290410  0.803601  Downstairs  Pranav_Iphone\n",
       "148240  0.721878   9.697687  4.331271  Downstairs  Pranav_Iphone\n",
       "148241 -3.364226  11.754360  2.982856  Downstairs  Pranav_Iphone\n",
       "148242  0.953424  18.305748  3.568531  Downstairs  Pranav_Iphone\n",
       "148243 -0.381370  11.604536 -0.040861  Downstairs  Pranav_Iphone\n",
       "148244 -1.035146   6.442424  1.184970  Downstairs  Pranav_Iphone\n",
       "148245 -1.076008   6.701211  1.307553  Downstairs  Pranav_Iphone\n",
       "148246 -4.018003  16.889230  7.314126  Downstairs  Pranav_Iphone\n",
       "148247 -3.023717   8.281172  5.706926  Downstairs  Pranav_Iphone\n",
       "148248 -2.301839   4.099725  1.648062  Downstairs  Pranav_Iphone\n",
       "148249  0.463092   7.055340  3.173541  Downstairs  Pranav_Iphone\n",
       "148250 -4.521955   9.847511  2.533385  Downstairs  Pranav_Iphone\n",
       "148251  0.422231  16.821129  3.636633  Downstairs  Pranav_Iphone\n",
       "148252 -1.607201   9.343558  0.272407  Downstairs  Pranav_Iphone\n",
       "148253 -0.081722   6.973618  1.307553  Downstairs  Pranav_Iphone\n",
       "148254  1.648062   6.823794  2.152015  Downstairs  Pranav_Iphone\n",
       "148255 -2.138395   6.551387  2.070293  Downstairs  Pranav_Iphone\n",
       "148256 -2.301839  19.000385  5.325556  Downstairs  Pranav_Iphone\n",
       "148257  0.531194   7.627395  0.503953  Downstairs  Pranav_Iphone\n",
       "148258 -1.144109   5.706926  1.184970  Downstairs  Pranav_Iphone\n",
       "148259 -1.525479  10.310603  2.833032  Downstairs  Pranav_Iphone\n",
       "148260 -2.342700   9.084772  0.040861  Downstairs  Pranav_Iphone\n",
       "148261 -2.601486  10.760075  1.035146  Downstairs  Pranav_Iphone\n",
       "\n",
       "[148262 rows x 5 columns]"
      ]
     },
     "execution_count": 3,
     "metadata": {},
     "output_type": "execute_result"
    }
   ],
   "source": [
    "df"
   ]
  },
  {
   "cell_type": "code",
   "execution_count": 6,
   "metadata": {},
   "outputs": [],
   "source": [
    "le = preprocessing.LabelEncoder()\n",
    "LABEL = \"ActivityEncoded\"\n",
    "ULABEL = \"UserEncoded\""
   ]
  },
  {
   "cell_type": "code",
   "execution_count": 8,
   "metadata": {},
   "outputs": [],
   "source": [
    "df[LABEL] = le.fit_transform(df['Activity'].astype(str).values.ravel())\n",
    "df[ULABEL] = le.fit_transform(df['UserName'].astype(str).values.ravel())\n"
   ]
  },
  {
   "cell_type": "code",
   "execution_count": 9,
   "metadata": {},
   "outputs": [
    {
     "data": {
      "text/html": [
       "<div>\n",
       "<style scoped>\n",
       "    .dataframe tbody tr th:only-of-type {\n",
       "        vertical-align: middle;\n",
       "    }\n",
       "\n",
       "    .dataframe tbody tr th {\n",
       "        vertical-align: top;\n",
       "    }\n",
       "\n",
       "    .dataframe thead th {\n",
       "        text-align: right;\n",
       "    }\n",
       "</style>\n",
       "<table border=\"1\" class=\"dataframe\">\n",
       "  <thead>\n",
       "    <tr style=\"text-align: right;\">\n",
       "      <th></th>\n",
       "      <th>AccX</th>\n",
       "      <th>AccY</th>\n",
       "      <th>AccZ</th>\n",
       "      <th>Activity</th>\n",
       "      <th>UserName</th>\n",
       "      <th>ActivityEncoded</th>\n",
       "      <th>UserEncoded</th>\n",
       "    </tr>\n",
       "  </thead>\n",
       "  <tbody>\n",
       "    <tr>\n",
       "      <th>0</th>\n",
       "      <td>-0.972528</td>\n",
       "      <td>4.645739</td>\n",
       "      <td>8.966504</td>\n",
       "      <td>Sitting</td>\n",
       "      <td>Pranav_Iphone</td>\n",
       "      <td>1</td>\n",
       "      <td>1</td>\n",
       "    </tr>\n",
       "    <tr>\n",
       "      <th>1</th>\n",
       "      <td>-0.717159</td>\n",
       "      <td>4.640201</td>\n",
       "      <td>8.394094</td>\n",
       "      <td>Sitting</td>\n",
       "      <td>Pranav_Iphone</td>\n",
       "      <td>1</td>\n",
       "      <td>1</td>\n",
       "    </tr>\n",
       "    <tr>\n",
       "      <th>2</th>\n",
       "      <td>-0.834215</td>\n",
       "      <td>4.701423</td>\n",
       "      <td>8.678204</td>\n",
       "      <td>Sitting</td>\n",
       "      <td>Pranav_Iphone</td>\n",
       "      <td>1</td>\n",
       "      <td>1</td>\n",
       "    </tr>\n",
       "    <tr>\n",
       "      <th>3</th>\n",
       "      <td>-0.727038</td>\n",
       "      <td>4.670887</td>\n",
       "      <td>8.535101</td>\n",
       "      <td>Sitting</td>\n",
       "      <td>Pranav_Iphone</td>\n",
       "      <td>1</td>\n",
       "      <td>1</td>\n",
       "    </tr>\n",
       "    <tr>\n",
       "      <th>4</th>\n",
       "      <td>-0.646655</td>\n",
       "      <td>4.657565</td>\n",
       "      <td>8.549322</td>\n",
       "      <td>Sitting</td>\n",
       "      <td>Pranav_Iphone</td>\n",
       "      <td>1</td>\n",
       "      <td>1</td>\n",
       "    </tr>\n",
       "  </tbody>\n",
       "</table>\n",
       "</div>"
      ],
      "text/plain": [
       "       AccX      AccY      AccZ Activity       UserName  ActivityEncoded  \\\n",
       "0 -0.972528  4.645739  8.966504  Sitting  Pranav_Iphone                1   \n",
       "1 -0.717159  4.640201  8.394094  Sitting  Pranav_Iphone                1   \n",
       "2 -0.834215  4.701423  8.678204  Sitting  Pranav_Iphone                1   \n",
       "3 -0.727038  4.670887  8.535101  Sitting  Pranav_Iphone                1   \n",
       "4 -0.646655  4.657565  8.549322  Sitting  Pranav_Iphone                1   \n",
       "\n",
       "   UserEncoded  \n",
       "0            1  \n",
       "1            1  \n",
       "2            1  \n",
       "3            1  \n",
       "4            1  "
      ]
     },
     "execution_count": 9,
     "metadata": {},
     "output_type": "execute_result"
    }
   ],
   "source": [
    "df.head()"
   ]
  },
  {
   "cell_type": "markdown",
   "metadata": {},
   "source": [
    "# TRAINING SET and TESTING SET\n",
    "# Dropping target variable and other categorical columns"
   ]
  },
  {
   "cell_type": "code",
   "execution_count": 10,
   "metadata": {},
   "outputs": [],
   "source": [
    "cols = [col for col in df.columns if col not in ['Activity','UserName','ActivityEncoded']]\n",
    "data = df[cols]\n",
    "target = df['ActivityEncoded']"
   ]
  },
  {
   "cell_type": "markdown",
   "metadata": {},
   "source": [
    "# We apply different algorithms on the train dataset and\n",
    "# evaluate the performance on the test data to make sure the model is stable. "
   ]
  },
  {
   "cell_type": "code",
   "execution_count": 11,
   "metadata": {},
   "outputs": [],
   "source": [
    "# Splitting the data into testing and training set\n",
    "data_train, data_test, target_train, target_test = train_test_split(data,target, test_size = 0.30, random_state = 10)"
   ]
  },
  {
   "cell_type": "code",
   "execution_count": 12,
   "metadata": {},
   "outputs": [
    {
     "name": "stdout",
     "output_type": "stream",
     "text": [
      "Naive-Bayes accuracy :  49.56945974504823\n"
     ]
    }
   ],
   "source": [
    "# Building The Model\n",
    "# 1 Naive Bayes\n",
    "from sklearn.naive_bayes import GaussianNB\n",
    "from sklearn.metrics import accuracy_score\n",
    "#create an object of the type GaussianNB\n",
    "gnb = GaussianNB()\n",
    "#train the algorithm on training data and predict using the testing data\n",
    "pred = gnb.fit(data_train, target_train).predict(data_test)\n",
    "#print(pred.tolist())\n",
    "#print the accuracy score of the model\n",
    "print(\"Naive-Bayes accuracy : \",(accuracy_score(target_test, pred, normalize = True))*100)"
   ]
  },
  {
   "cell_type": "code",
   "execution_count": 13,
   "metadata": {},
   "outputs": [
    {
     "name": "stdout",
     "output_type": "stream",
     "text": [
      "LinearSVC accuracy :  82.87506463724455\n"
     ]
    },
    {
     "name": "stderr",
     "output_type": "stream",
     "text": [
      "C:\\ProgramData\\Anaconda3\\lib\\site-packages\\sklearn\\svm\\base.py:922: ConvergenceWarning: Liblinear failed to converge, increase the number of iterations.\n",
      "  \"the number of iterations.\", ConvergenceWarning)\n"
     ]
    }
   ],
   "source": [
    "# 2 Linear SVC\n",
    "from sklearn.svm import LinearSVC\n",
    "from sklearn.metrics import accuracy_score\n",
    "#create an object of type LinearSVC\n",
    "svc_model = LinearSVC(random_state=0)\n",
    "#train the algorithm on training data and predict using the testing data\n",
    "pred = svc_model.fit(data_train, target_train).predict(data_test)\n",
    "#print the accuracy score of the model\n",
    "print(\"LinearSVC accuracy : \",(accuracy_score(target_test, pred, normalize = True))*100)"
   ]
  },
  {
   "cell_type": "code",
   "execution_count": 12,
   "metadata": {},
   "outputs": [
    {
     "name": "stdout",
     "output_type": "stream",
     "text": [
      "KNeighbors accuracy score :  97.30434587108523\n"
     ]
    }
   ],
   "source": [
    "# 3 K Neighbours Classifier \n",
    "from sklearn.neighbors import KNeighborsClassifier\n",
    "from sklearn.metrics import accuracy_score\n",
    "#create object of the lassifier\n",
    "neigh = KNeighborsClassifier(n_neighbors=3)\n",
    "#Train the algorithm\n",
    "neigh.fit(data_train, target_train)\n",
    "# predict the response\n",
    "pred = neigh.predict(data_test)\n",
    "# evaluate accuracy\n",
    "print (\"KNeighbors accuracy score : \",(accuracy_score(target_test, pred))*100)"
   ]
  },
  {
   "cell_type": "markdown",
   "metadata": {},
   "source": [
    "# Performance Comparison"
   ]
  },
  {
   "cell_type": "code",
   "execution_count": 13,
   "metadata": {},
   "outputs": [
    {
     "data": {
      "image/png": "[encoded data removed]",
      "text/plain": [
       "<Figure size 576x396 with 2 Axes>"
      ]
     },
     "metadata": {},
     "output_type": "display_data"
    }
   ],
   "source": [
    "\n",
    "# 1. Naive Bayes\n",
    "from yellowbrick.classifier import ClassificationReport\n",
    "# Instantiate the classification model and visualizer\n",
    "visualizer = ClassificationReport(gnb, classes=['Won','Loss'])\n",
    "visualizer.fit(data_train, target_train) # Fit the training data to the visualizer\n",
    "visualizer.score(data_test, target_test) # Evaluate the model on the test data\n",
    "g = visualizer.poof() # Draw/show/poof the data"
   ]
  },
  {
   "cell_type": "code",
   "execution_count": 14,
   "metadata": {},
   "outputs": [
    {
     "name": "stderr",
     "output_type": "stream",
     "text": [
      "C:\\Users\\prana\\AppData\\Local\\conda\\conda\\envs\\MastersProject\\lib\\site-packages\\sklearn\\svm\\base.py:929: ConvergenceWarning: Liblinear failed to converge, increase the number of iterations.\n",
      "  \"the number of iterations.\", ConvergenceWarning)\n",
      "C:\\Users\\prana\\AppData\\Local\\conda\\conda\\envs\\MastersProject\\lib\\site-packages\\sklearn\\metrics\\classification.py:1437: UndefinedMetricWarning: Precision and F-score are ill-defined and being set to 0.0 in labels with no predicted samples.\n",
      "  'precision', 'predicted', average, warn_for)\n"
     ]
    },
    {
     "data": {
      "image/png": "[encoded data removed]",
      "text/plain": [
       "<Figure size 576x396 with 2 Axes>"
      ]
     },
     "metadata": {},
     "output_type": "display_data"
    }
   ],
   "source": [
    "from yellowbrick.classifier import ClassificationReport\n",
    "# Instantiate the classification model and visualizer\n",
    "visualizer = ClassificationReport(svc_model, classes=['Won','Loss'])\n",
    "visualizer.fit(data_train, target_train) # Fit the training data to the visualizer\n",
    "visualizer.score(data_test, target_test) # Evaluate the model on the test data\n",
    "g = visualizer.poof() # Draw/show/poof the data"
   ]
  },
  {
   "cell_type": "code",
   "execution_count": 15,
   "metadata": {},
   "outputs": [
    {
     "data": {
      "image/png": "[encoded data removed]",
      "text/plain": [
       "<Figure size 576x396 with 2 Axes>"
      ]
     },
     "metadata": {},
     "output_type": "display_data"
    }
   ],
   "source": [
    "from yellowbrick.classifier import ClassificationReport\n",
    "# Instantiate the classification model and visualizer\n",
    "visualizer = ClassificationReport(neigh, classes=['Won','Loss'])\n",
    "visualizer.fit(data_train, target_train) # Fit the training data to the visualizer\n",
    "visualizer.score(data_test, target_test) # Evaluate the model on the test data\n",
    "g = visualizer.poof() # Draw/show/poof the data\n"
   ]
  },
  {
   "cell_type": "markdown",
   "metadata": {},
   "source": [
    "# Generic function to run any model specified"
   ]
  },
  {
   "cell_type": "code",
   "execution_count": 14,
   "metadata": {},
   "outputs": [],
   "source": [
    "from datetime import datetime\n",
    "def perform_model(model, X_train, y_train, X_test, y_test, class_labels, cm_normalize=True, \\\n",
    "                 print_cm=True, cm_cmap=plt.cm.Greens):\n",
    "    \n",
    "    \n",
    "    # to store results at various phases\n",
    "    results = dict()\n",
    "    \n",
    "    # time at which model starts training \n",
    "    train_start_time = datetime.now()\n",
    "    print('training the model..')\n",
    "    model.fit(X_train, y_train)\n",
    "    print('Done \\n \\n')\n",
    "    train_end_time = datetime.now()\n",
    "    results['training_time'] =  train_end_time - train_start_time\n",
    "    print('training_time(HH:MM:SS.ms) - {}\\n\\n'.format(results['training_time']))\n",
    "    \n",
    "    \n",
    "    # predict test data\n",
    "    print('Predicting test data')\n",
    "    test_start_time = datetime.now()\n",
    "    y_pred = model.predict(X_test)\n",
    "    test_end_time = datetime.now()\n",
    "    print('Done \\n \\n')\n",
    "    results['testing_time'] = test_end_time - test_start_time\n",
    "    print('testing time(HH:MM:SS:ms) - {}\\n\\n'.format(results['testing_time']))\n",
    "    results['predicted'] = y_pred\n",
    "   \n",
    "\n",
    "    # calculate overall accuracty of the model\n",
    "    accuracy = metrics.accuracy_score(y_true=y_test, y_pred=y_pred)\n",
    "    # store accuracy in results\n",
    "    results['accuracy'] = accuracy\n",
    "    print('---------------------')\n",
    "    print('|      Accuracy      |')\n",
    "    print('---------------------')\n",
    "    print('\\n    {}\\n\\n'.format(accuracy))\n",
    "    \n",
    "    \n",
    "    # confusion matrix\n",
    "    cm = metrics.confusion_matrix(y_test, y_pred)\n",
    "    results['confusion_matrix'] = cm\n",
    "    if print_cm: \n",
    "        print('--------------------')\n",
    "        print('| Confusion Matrix |')\n",
    "        print('--------------------')\n",
    "        print('\\n {}'.format(cm))\n",
    "        \n",
    "    # plot confusin matrix\n",
    "    plt.figure(figsize=(8,8))\n",
    "    plt.grid(b=False)\n",
    "    plot_confusion_matrix(cm, classes=class_labels, normalize=True, title='Normalized confusion matrix', cmap = cm_cmap)\n",
    "    plt.show()\n",
    "    \n",
    "    # get classification report\n",
    "    print('-------------------------')\n",
    "    print('| Classifiction Report |')\n",
    "    print('-------------------------')\n",
    "    classification_report = metrics.classification_report(y_test, y_pred)\n",
    "    # store report in results\n",
    "    results['classification_report'] = classification_report\n",
    "    print(classification_report)\n",
    "    \n",
    "    # add the trained  model to the results\n",
    "    results['model'] = model\n",
    "    \n",
    "    return results\n",
    "    \n",
    "    "
   ]
  },
  {
   "cell_type": "code",
   "execution_count": 15,
   "metadata": {},
   "outputs": [],
   "source": [
    "import itertools\n",
    "import numpy as np\n",
    "import matplotlib.pyplot as plt\n",
    "from sklearn.metrics import confusion_matrix\n",
    "plt.rcParams[\"font.family\"] = 'DejaVu Sans'\n",
    "\n",
    "def plot_confusion_matrix(cm, classes,\n",
    "                          normalize=False,\n",
    "                          title='Confusion matrix',\n",
    "                          cmap=plt.cm.Blues):\n",
    "    if normalize:\n",
    "        cm = cm.astype('float') / cm.sum(axis=1)[:, np.newaxis]\n",
    "\n",
    "    plt.imshow(cm, interpolation='nearest', cmap=cmap)\n",
    "    plt.title(title)\n",
    "    plt.colorbar()\n",
    "    tick_marks = np.arange(len(classes))\n",
    "    plt.xticks(tick_marks, classes, rotation=90)\n",
    "    plt.yticks(tick_marks, classes)\n",
    "\n",
    "    fmt = '.2f' if normalize else 'd'\n",
    "    thresh = cm.max() / 2.\n",
    "    for i, j in itertools.product(range(cm.shape[0]), range(cm.shape[1])):\n",
    "        plt.text(j, i, format(cm[i, j], fmt),\n",
    "                 horizontalalignment=\"center\",\n",
    "                 color=\"white\" if cm[i, j] > thresh else \"black\")\n",
    "\n",
    "    plt.tight_layout()\n",
    "    plt.ylabel('True label')\n",
    "    plt.xlabel('Predicted label')"
   ]
  },
  {
   "cell_type": "code",
   "execution_count": 16,
   "metadata": {},
   "outputs": [],
   "source": [
    "labels=[\"Sitting\",\"Upstairs\",\"Downstairs\",\"Walking\"]\n",
    "from sklearn.model_selection import GridSearchCV"
   ]
  },
  {
   "cell_type": "markdown",
   "metadata": {},
   "source": [
    "# 1. Logistic Regression"
   ]
  },
  {
   "cell_type": "code",
   "execution_count": 17,
   "metadata": {},
   "outputs": [],
   "source": [
    "from sklearn import linear_model\n",
    "from sklearn import metrics"
   ]
  },
  {
   "cell_type": "code",
   "execution_count": 18,
   "metadata": {
    "scrolled": false
   },
   "outputs": [
    {
     "name": "stdout",
     "output_type": "stream",
     "text": [
      "training the model..\n"
     ]
    },
    {
     "name": "stderr",
     "output_type": "stream",
     "text": [
      "C:\\ProgramData\\Anaconda3\\lib\\site-packages\\sklearn\\linear_model\\logistic.py:433: FutureWarning: Default solver will be changed to 'lbfgs' in 0.22. Specify a solver to silence this warning.\n",
      "  FutureWarning)\n",
      "C:\\ProgramData\\Anaconda3\\lib\\site-packages\\sklearn\\linear_model\\logistic.py:460: FutureWarning: Default multi_class will be changed to 'auto' in 0.22. Specify the multi_class option to silence this warning.\n",
      "  \"this warning.\", FutureWarning)\n",
      "C:\\ProgramData\\Anaconda3\\lib\\site-packages\\sklearn\\svm\\base.py:922: ConvergenceWarning: Liblinear failed to converge, increase the number of iterations.\n",
      "  \"the number of iterations.\", ConvergenceWarning)\n"
     ]
    },
    {
     "name": "stdout",
     "output_type": "stream",
     "text": [
      "Done \n",
      " \n",
      "\n",
      "training_time(HH:MM:SS.ms) - 0:00:06.486511\n",
      "\n",
      "\n",
      "Predicting test data\n",
      "Done \n",
      " \n",
      "\n",
      "testing time(HH:MM:SS:ms) - 0:00:00.008938\n",
      "\n",
      "\n",
      "---------------------\n",
      "|      Accuracy      |\n",
      "---------------------\n",
      "\n",
      "    0.8398345286539716\n",
      "\n",
      "\n",
      "--------------------\n",
      "| Confusion Matrix |\n",
      "--------------------\n",
      "\n",
      " [[  649  1522     0     4     0]\n",
      " [   46 30770     0  1798     0]\n",
      " [  351   958     2     1     0]\n",
      " [   43  2394     6  5934     0]\n",
      " [    0     1     0     0     0]]\n"
     ]
    },
    {
     "data": {
      "image/png": "[encoded data removed]",
      "text/plain": [
       "<Figure size 576x576 with 2 Axes>"
      ]
     },
     "metadata": {
      "needs_background": "light"
     },
     "output_type": "display_data"
    },
    {
     "name": "stdout",
     "output_type": "stream",
     "text": [
      "-------------------------\n",
      "| Classifiction Report |\n",
      "-------------------------\n",
      "              precision    recall  f1-score   support\n",
      "\n",
      "           0       0.60      0.30      0.40      2175\n",
      "           1       0.86      0.94      0.90     32614\n",
      "           2       0.25      0.00      0.00      1312\n",
      "           3       0.77      0.71      0.74      8377\n",
      "           4       0.00      0.00      0.00         1\n",
      "\n",
      "   micro avg       0.84      0.84      0.84     44479\n",
      "   macro avg       0.50      0.39      0.41     44479\n",
      "weighted avg       0.81      0.84      0.82     44479\n",
      "\n"
     ]
    },
    {
     "name": "stderr",
     "output_type": "stream",
     "text": [
      "C:\\ProgramData\\Anaconda3\\lib\\site-packages\\sklearn\\metrics\\classification.py:1143: UndefinedMetricWarning: Precision and F-score are ill-defined and being set to 0.0 in labels with no predicted samples.\n",
      "  'precision', 'predicted', average, warn_for)\n"
     ]
    }
   ],
   "source": [
    "log_reg = linear_model.LogisticRegression()\n",
    "log_reg_grid_results =  perform_model(log_reg,data_train, target_train,data_test, target_test, class_labels=labels)"
   ]
  },
  {
   "cell_type": "markdown",
   "metadata": {},
   "source": [
    "# 2. Linear SVC"
   ]
  },
  {
   "cell_type": "code",
   "execution_count": 26,
   "metadata": {
    "scrolled": true
   },
   "outputs": [
    {
     "name": "stdout",
     "output_type": "stream",
     "text": [
      "training the model..\n"
     ]
    },
    {
     "name": "stderr",
     "output_type": "stream",
     "text": [
      "C:\\Users\\prana\\AppData\\Local\\conda\\conda\\envs\\MastersProject\\lib\\site-packages\\sklearn\\svm\\base.py:929: ConvergenceWarning: Liblinear failed to converge, increase the number of iterations.\n",
      "  \"the number of iterations.\", ConvergenceWarning)\n"
     ]
    },
    {
     "name": "stdout",
     "output_type": "stream",
     "text": [
      "Done \n",
      " \n",
      "\n",
      "training_time(HH:MM:SS.ms) - 0:01:20.981153\n",
      "\n",
      "\n",
      "Predicting test data\n",
      "Done \n",
      " \n",
      "\n",
      "testing time(HH:MM:SS:ms) - 0:00:00.012961\n",
      "\n",
      "\n",
      "---------------------\n",
      "|      Accuracy      |\n",
      "---------------------\n",
      "\n",
      "    0.8341464511342431\n",
      "\n",
      "\n",
      "--------------------\n",
      "| Confusion Matrix |\n",
      "--------------------\n",
      "\n",
      " [[  309  1865     0     1]\n",
      " [    5 30653     0  1956]\n",
      " [  118  1193     0     2]\n",
      " [   27  2210     0  6140]]\n"
     ]
    },
    {
     "data": {
      "image/png": "[encoded data removed]",
      "text/plain": [
       "<Figure size 576x576 with 2 Axes>"
      ]
     },
     "metadata": {},
     "output_type": "display_data"
    },
    {
     "name": "stdout",
     "output_type": "stream",
     "text": [
      "-------------------------\n",
      "| Classifiction Report |\n",
      "-------------------------\n",
      "              precision    recall  f1-score   support\n",
      "\n",
      "           0       0.67      0.14      0.23      2175\n",
      "           1       0.85      0.94      0.89     32614\n",
      "           2       0.00      0.00      0.00      1313\n",
      "           3       0.76      0.73      0.75      8377\n",
      "\n",
      "    accuracy                           0.83     44479\n",
      "   macro avg       0.57      0.45      0.47     44479\n",
      "weighted avg       0.80      0.83      0.81     44479\n",
      "\n"
     ]
    },
    {
     "name": "stderr",
     "output_type": "stream",
     "text": [
      "C:\\Users\\prana\\AppData\\Local\\conda\\conda\\envs\\MastersProject\\lib\\site-packages\\sklearn\\metrics\\classification.py:1437: UndefinedMetricWarning: Precision and F-score are ill-defined and being set to 0.0 in labels with no predicted samples.\n",
      "  'precision', 'predicted', average, warn_for)\n"
     ]
    }
   ],
   "source": [
    "from sklearn.svm import LinearSVC\n",
    "lr_svc = LinearSVC(tol=0.00005)\n",
    "lr_svc_grid_results = perform_model(lr_svc, data_train, target_train,data_test, target_test, class_labels=labels)"
   ]
  },
  {
   "cell_type": "markdown",
   "metadata": {},
   "source": [
    "# 3. Kernel SVM"
   ]
  },
  {
   "cell_type": "code",
   "execution_count": 27,
   "metadata": {},
   "outputs": [
    {
     "name": "stdout",
     "output_type": "stream",
     "text": [
      "training the model..\n"
     ]
    },
    {
     "name": "stderr",
     "output_type": "stream",
     "text": [
      "C:\\Users\\prana\\AppData\\Local\\conda\\conda\\envs\\MastersProject\\lib\\site-packages\\sklearn\\svm\\base.py:193: FutureWarning: The default value of gamma will change from 'auto' to 'scale' in version 0.22 to account better for unscaled features. Set gamma explicitly to 'auto' or 'scale' to avoid this warning.\n",
      "  \"avoid this warning.\", FutureWarning)\n"
     ]
    },
    {
     "name": "stdout",
     "output_type": "stream",
     "text": [
      "Done \n",
      " \n",
      "\n",
      "training_time(HH:MM:SS.ms) - 0:03:15.788419\n",
      "\n",
      "\n",
      "Predicting test data\n",
      "Done \n",
      " \n",
      "\n",
      "testing time(HH:MM:SS:ms) - 0:00:23.807292\n",
      "\n",
      "\n",
      "---------------------\n",
      "|      Accuracy      |\n",
      "---------------------\n",
      "\n",
      "    0.9740776546235302\n",
      "\n",
      "\n",
      "--------------------\n",
      "| Confusion Matrix |\n",
      "--------------------\n",
      "\n",
      " [[ 1969    28   130    48]\n",
      " [   21 32412     9   172]\n",
      " [  379    20   845    69]\n",
      " [   60   146    71  8100]]\n"
     ]
    },
    {
     "data": {
      "image/png": "[encoded data removed]",
      "text/plain": [
       "<Figure size 576x576 with 2 Axes>"
      ]
     },
     "metadata": {},
     "output_type": "display_data"
    },
    {
     "name": "stdout",
     "output_type": "stream",
     "text": [
      "-------------------------\n",
      "| Classifiction Report |\n",
      "-------------------------\n",
      "              precision    recall  f1-score   support\n",
      "\n",
      "           0       0.81      0.91      0.86      2175\n",
      "           1       0.99      0.99      0.99     32614\n",
      "           2       0.80      0.64      0.71      1313\n",
      "           3       0.97      0.97      0.97      8377\n",
      "\n",
      "    accuracy                           0.97     44479\n",
      "   macro avg       0.89      0.88      0.88     44479\n",
      "weighted avg       0.97      0.97      0.97     44479\n",
      "\n"
     ]
    }
   ],
   "source": [
    "from sklearn.svm import SVC\n",
    "rbf_svm = SVC(kernel='rbf')\n",
    "rbf_svm_grid_results = perform_model(rbf_svm,data_train, target_train,data_test, target_test, class_labels=labels)"
   ]
  },
  {
   "cell_type": "markdown",
   "metadata": {},
   "source": [
    "# 4. Decision Trees"
   ]
  },
  {
   "cell_type": "code",
   "execution_count": 28,
   "metadata": {},
   "outputs": [
    {
     "name": "stdout",
     "output_type": "stream",
     "text": [
      "training the model..\n",
      "Done \n",
      " \n",
      "\n",
      "training_time(HH:MM:SS.ms) - 0:00:00.778911\n",
      "\n",
      "\n",
      "Predicting test data\n",
      "Done \n",
      " \n",
      "\n",
      "testing time(HH:MM:SS:ms) - 0:00:00.014961\n",
      "\n",
      "\n",
      "---------------------\n",
      "|      Accuracy      |\n",
      "---------------------\n",
      "\n",
      "    0.9712223746037456\n",
      "\n",
      "\n",
      "--------------------\n",
      "| Confusion Matrix |\n",
      "--------------------\n",
      "\n",
      " [[ 1778    22   350    25]\n",
      " [   35 32432    13   134]\n",
      " [  328    24   873    88]\n",
      " [   35   155    71  8116]]\n"
     ]
    },
    {
     "data": {
      "image/png": "[encoded data removed]",
      "text/plain": [
       "<Figure size 576x576 with 2 Axes>"
      ]
     },
     "metadata": {},
     "output_type": "display_data"
    },
    {
     "name": "stdout",
     "output_type": "stream",
     "text": [
      "-------------------------\n",
      "| Classifiction Report |\n",
      "-------------------------\n",
      "              precision    recall  f1-score   support\n",
      "\n",
      "           0       0.82      0.82      0.82      2175\n",
      "           1       0.99      0.99      0.99     32614\n",
      "           2       0.67      0.66      0.67      1313\n",
      "           3       0.97      0.97      0.97      8377\n",
      "\n",
      "    accuracy                           0.97     44479\n",
      "   macro avg       0.86      0.86      0.86     44479\n",
      "weighted avg       0.97      0.97      0.97     44479\n",
      "\n"
     ]
    }
   ],
   "source": [
    "from sklearn.tree import DecisionTreeClassifier\n",
    "dt = DecisionTreeClassifier()\n",
    "dt_grid_results = perform_model(dt, data_train, target_train,data_test, target_test, class_labels=labels)"
   ]
  },
  {
   "cell_type": "markdown",
   "metadata": {},
   "source": [
    "# 5. Random Forest Classifier"
   ]
  },
  {
   "cell_type": "code",
   "execution_count": 29,
   "metadata": {},
   "outputs": [
    {
     "name": "stdout",
     "output_type": "stream",
     "text": [
      "training the model..\n"
     ]
    },
    {
     "name": "stderr",
     "output_type": "stream",
     "text": [
      "C:\\Users\\prana\\AppData\\Local\\conda\\conda\\envs\\MastersProject\\lib\\site-packages\\sklearn\\ensemble\\forest.py:245: FutureWarning: The default value of n_estimators will change from 10 in version 0.20 to 100 in 0.22.\n",
      "  \"10 in version 0.20 to 100 in 0.22.\", FutureWarning)\n"
     ]
    },
    {
     "name": "stdout",
     "output_type": "stream",
     "text": [
      "Done \n",
      " \n",
      "\n",
      "training_time(HH:MM:SS.ms) - 0:00:02.646912\n",
      "\n",
      "\n",
      "Predicting test data\n",
      "Done \n",
      " \n",
      "\n",
      "testing time(HH:MM:SS:ms) - 0:00:00.129653\n",
      "\n",
      "\n",
      "---------------------\n",
      "|      Accuracy      |\n",
      "---------------------\n",
      "\n",
      "    0.9779221655163111\n",
      "\n",
      "\n",
      "--------------------\n",
      "| Confusion Matrix |\n",
      "--------------------\n",
      "\n",
      " [[ 1976    15   159    25]\n",
      " [   18 32474     9   113]\n",
      " [  358    13   876    66]\n",
      " [   32   118    56  8171]]\n"
     ]
    },
    {
     "data": {
      "image/png": "[encoded data removed]",
      "text/plain": [
       "<Figure size 576x576 with 2 Axes>"
      ]
     },
     "metadata": {},
     "output_type": "display_data"
    },
    {
     "name": "stdout",
     "output_type": "stream",
     "text": [
      "-------------------------\n",
      "| Classifiction Report |\n",
      "-------------------------\n",
      "              precision    recall  f1-score   support\n",
      "\n",
      "           0       0.83      0.91      0.87      2175\n",
      "           1       1.00      1.00      1.00     32614\n",
      "           2       0.80      0.67      0.73      1313\n",
      "           3       0.98      0.98      0.98      8377\n",
      "\n",
      "    accuracy                           0.98     44479\n",
      "   macro avg       0.90      0.89      0.89     44479\n",
      "weighted avg       0.98      0.98      0.98     44479\n",
      "\n"
     ]
    }
   ],
   "source": [
    "from sklearn.ensemble import RandomForestClassifier\n",
    "rfc = RandomForestClassifier()\n",
    "rfc_grid_results = perform_model(rfc, data_train, target_train,data_test, target_test, class_labels=labels)"
   ]
  },
  {
   "cell_type": "code",
   "execution_count": 31,
   "metadata": {},
   "outputs": [
    {
     "name": "stdout",
     "output_type": "stream",
     "text": [
      "\n",
      "                     Accuracy     Error\n",
      "                     ----------   --------\n",
      "Logistic Regression : 85.52%       14.48%\n",
      "Linear SVC          : 83.41%       16.59% \n",
      "K-SVM               : 97.41%      2.592% \n",
      "DecisionTree        : 97.12%      2.878% \n",
      "Random Forest       : 97.79%      2.208% \n"
     ]
    }
   ],
   "source": [
    "print('\\n                     Accuracy     Error')\n",
    "print('                     ----------   --------')\n",
    "print('Logistic Regression : {:.04}%       {:.04}%'.format(log_reg_grid_results['accuracy'] * 100,\\\n",
    "                                                  100-(log_reg_grid_results['accuracy'] * 100)))\n",
    "\n",
    "print('Linear SVC          : {:.04}%       {:.04}% '.format(lr_svc_grid_results['accuracy'] * 100,\\\n",
    "                                                        100-(lr_svc_grid_results['accuracy'] * 100)))\n",
    "\n",
    "print('K-SVM               : {:.04}%      {:.04}% '.format(rbf_svm_grid_results['accuracy'] * 100,\\\n",
    "                                                          100-(rbf_svm_grid_results['accuracy'] * 100)))\n",
    "\n",
    "print('DecisionTree        : {:.04}%      {:.04}% '.format(dt_grid_results['accuracy'] * 100,\\\n",
    "                                                        100-(dt_grid_results['accuracy'] * 100)))\n",
    "\n",
    "print('Random Forest       : {:.04}%      {:.04}% '.format(rfc_grid_results['accuracy'] * 100,\\\n",
    "                                                           100-(rfc_grid_results['accuracy'] * 100)))\n"
   ]
  }
 ],
 "metadata": {
  "kernelspec": {
   "display_name": "Python 3",
   "language": "python",
   "name": "python3"
  },
  "language_info": {
   "codemirror_mode": {
    "name": "ipython",
    "version": 3
   },
   "file_extension": ".py",
   "mimetype": "text/x-python",
   "name": "python",
   "nbconvert_exporter": "python",
   "pygments_lexer": "ipython3",
   "version": "3.7.1"
  }
 },
 "nbformat": 4,
 "nbformat_minor": 2
}
